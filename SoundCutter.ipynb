{
  "nbformat": 4,
  "nbformat_minor": 0,
  "metadata": {
    "colab": {
      "name": "SoundCutter.ipynb",
      "provenance": []
    },
    "kernelspec": {
      "name": "python3",
      "display_name": "Python 3"
    },
    "language_info": {
      "name": "python"
    },
    "accelerator": "GPU"
  },
  "cells": [
    {
      "cell_type": "markdown",
      "metadata": {
        "id": "s7cGxagc3tkd"
      },
      "source": [
        "# Перенос файла с диска"
      ]
    },
    {
      "cell_type": "code",
      "metadata": {
        "id": "bba9-Hff1m3P"
      },
      "source": [
        "!cp \"/content/drive/MyDrive/GlebHac/hackathon_part_1.mp4\" ./"
      ],
      "execution_count": 1,
      "outputs": []
    },
    {
      "cell_type": "code",
      "metadata": {
        "id": "8VsEsL1HUtAZ"
      },
      "source": [
        "!cp \"/content/drive/MyDrive/GlebHac/vox1_meta.csv\" ./"
      ],
      "execution_count": 2,
      "outputs": []
    },
    {
      "cell_type": "code",
      "metadata": {
        "id": "1akheGI4Ueyg"
      },
      "source": [
        "!mkdir splited_sound"
      ],
      "execution_count": 3,
      "outputs": []
    },
    {
      "cell_type": "code",
      "metadata": {
        "colab": {
          "base_uri": "https://localhost:8080/"
        },
        "id": "Pn986d3BUgHJ",
        "outputId": "1692f05b-b91b-4e66-9949-9e80f3b68033"
      },
      "source": [
        "!pip install pydub"
      ],
      "execution_count": 4,
      "outputs": [
        {
          "output_type": "stream",
          "name": "stdout",
          "text": [
            "Collecting pydub\n",
            "  Downloading pydub-0.25.1-py2.py3-none-any.whl (32 kB)\n",
            "Installing collected packages: pydub\n",
            "Successfully installed pydub-0.25.1\n"
          ]
        }
      ]
    },
    {
      "cell_type": "code",
      "metadata": {
        "colab": {
          "base_uri": "https://localhost:8080/"
        },
        "id": "0NeO1T_hUjjo",
        "outputId": "3c884e7a-2742-41e1-f78a-59a4a7221694"
      },
      "source": [
        "!pip install SpeechRecognition"
      ],
      "execution_count": 5,
      "outputs": [
        {
          "output_type": "stream",
          "name": "stdout",
          "text": [
            "Collecting SpeechRecognition\n",
            "  Downloading SpeechRecognition-3.8.1-py2.py3-none-any.whl (32.8 MB)\n",
            "\u001b[K     |████████████████████████████████| 32.8 MB 38 kB/s \n",
            "\u001b[?25hInstalling collected packages: SpeechRecognition\n",
            "Successfully installed SpeechRecognition-3.8.1\n"
          ]
        }
      ]
    },
    {
      "cell_type": "code",
      "metadata": {
        "colab": {
          "base_uri": "https://localhost:8080/"
        },
        "id": "XQ-fE7m6Xs1k",
        "outputId": "30b441aa-6b09-4ab1-fda5-eb61a24a0849"
      },
      "source": [
        "!pip install Levenshtein"
      ],
      "execution_count": 6,
      "outputs": [
        {
          "output_type": "stream",
          "name": "stdout",
          "text": [
            "Collecting Levenshtein\n",
            "  Downloading Levenshtein-0.16.0-cp37-cp37m-manylinux_2_5_x86_64.manylinux1_x86_64.manylinux_2_12_x86_64.manylinux2010_x86_64.whl (110 kB)\n",
            "\u001b[K     |████████████████████████████████| 110 kB 4.2 MB/s \n",
            "\u001b[?25hCollecting rapidfuzz<1.9,>=1.8.2\n",
            "  Downloading rapidfuzz-1.8.2-cp37-cp37m-manylinux_2_12_x86_64.manylinux2010_x86_64.whl (1.6 MB)\n",
            "\u001b[K     |████████████████████████████████| 1.6 MB 29.2 MB/s \n",
            "\u001b[?25hInstalling collected packages: rapidfuzz, Levenshtein\n",
            "Successfully installed Levenshtein-0.16.0 rapidfuzz-1.8.2\n"
          ]
        }
      ]
    },
    {
      "cell_type": "code",
      "metadata": {
        "colab": {
          "base_uri": "https://localhost:8080/"
        },
        "id": "pc2D_r9xZOsM",
        "outputId": "f50cb3fc-8de1-4774-ab92-1b587a494793"
      },
      "source": [
        "!pip install transliterate"
      ],
      "execution_count": 7,
      "outputs": [
        {
          "output_type": "stream",
          "name": "stdout",
          "text": [
            "Collecting transliterate\n",
            "  Downloading transliterate-1.10.2-py2.py3-none-any.whl (45 kB)\n",
            "\u001b[?25l\r\u001b[K     |███████▏                        | 10 kB 26.4 MB/s eta 0:00:01\r\u001b[K     |██████████████▎                 | 20 kB 25.6 MB/s eta 0:00:01\r\u001b[K     |█████████████████████▌          | 30 kB 12.1 MB/s eta 0:00:01\r\u001b[K     |████████████████████████████▋   | 40 kB 9.3 MB/s eta 0:00:01\r\u001b[K     |████████████████████████████████| 45 kB 2.5 MB/s \n",
            "\u001b[?25hRequirement already satisfied: six>=1.1.0 in /usr/local/lib/python3.7/dist-packages (from transliterate) (1.15.0)\n",
            "Installing collected packages: transliterate\n",
            "Successfully installed transliterate-1.10.2\n"
          ]
        }
      ]
    },
    {
      "cell_type": "markdown",
      "metadata": {
        "id": "3yqrw5ku6vXz"
      },
      "source": [
        "# Получение аудио из видео"
      ]
    },
    {
      "cell_type": "code",
      "metadata": {
        "colab": {
          "base_uri": "https://localhost:8080/"
        },
        "id": "zw96Ntln3s_7",
        "outputId": "9a2bc8c1-b2dc-43d1-8865-0b013e0f634d"
      },
      "source": [
        "from moviepy.editor import * #подключаем пакет moviepy"
      ],
      "execution_count": 8,
      "outputs": [
        {
          "output_type": "stream",
          "name": "stdout",
          "text": [
            "Imageio: 'ffmpeg-linux64-v3.3.1' was not found on your computer; downloading it now.\n",
            "Try 1. Download from https://github.com/imageio/imageio-binaries/raw/master/ffmpeg/ffmpeg-linux64-v3.3.1 (43.8 MB)\n",
            "Downloading: 8192/45929032 bytes (0.0%)\b\b\b\b\b\b\b\b\b\b\b\b\b\b\b\b\b\b\b\b\b\b\b\b\b\b2326528/45929032 bytes (5.1%)\b\b\b\b\b\b\b\b\b\b\b\b\b\b\b\b\b\b\b\b\b\b\b\b\b\b\b\b\b5259264/45929032 bytes (11.5%)\b\b\b\b\b\b\b\b\b\b\b\b\b\b\b\b\b\b\b\b\b\b\b\b\b\b\b\b\b\b8634368/45929032 bytes (18.8%)\b\b\b\b\b\b\b\b\b\b\b\b\b\b\b\b\b\b\b\b\b\b\b\b\b\b\b\b\b\b12107776/45929032 bytes (26.4%)\b\b\b\b\b\b\b\b\b\b\b\b\b\b\b\b\b\b\b\b\b\b\b\b\b\b\b\b\b\b\b15433728/45929032 bytes (33.6%)\b\b\b\b\b\b\b\b\b\b\b\b\b\b\b\b\b\b\b\b\b\b\b\b\b\b\b\b\b\b\b18653184/45929032 bytes (40.6%)\b\b\b\b\b\b\b\b\b\b\b\b\b\b\b\b\b\b\b\b\b\b\b\b\b\b\b\b\b\b\b22052864/45929032 bytes (48.0%)\b\b\b\b\b\b\b\b\b\b\b\b\b\b\b\b\b\b\b\b\b\b\b\b\b\b\b\b\b\b\b25174016/45929032 bytes (54.8%)\b\b\b\b\b\b\b\b\b\b\b\b\b\b\b\b\b\b\b\b\b\b\b\b\b\b\b\b\b\b\b28688384/45929032 bytes (62.5%)\b\b\b\b\b\b\b\b\b\b\b\b\b\b\b\b\b\b\b\b\b\b\b\b\b\b\b\b\b\b\b32251904/45929032 bytes (70.2%)\b\b\b\b\b\b\b\b\b\b\b\b\b\b\b\b\b\b\b\b\b\b\b\b\b\b\b\b\b\b\b35692544/45929032 bytes (77.7%)\b\b\b\b\b\b\b\b\b\b\b\b\b\b\b\b\b\b\b\b\b\b\b\b\b\b\b\b\b\b\b39182336/45929032 bytes (85.3%)\b\b\b\b\b\b\b\b\b\b\b\b\b\b\b\b\b\b\b\b\b\b\b\b\b\b\b\b\b\b\b42590208/45929032 bytes (92.7%)\b\b\b\b\b\b\b\b\b\b\b\b\b\b\b\b\b\b\b\b\b\b\b\b\b\b\b\b\b\b\b45929032/45929032 bytes (100.0%)\n",
            "  Done\n",
            "File saved as /root/.imageio/ffmpeg/ffmpeg-linux64-v3.3.1.\n"
          ]
        }
      ]
    },
    {
      "cell_type": "code",
      "metadata": {
        "colab": {
          "base_uri": "https://localhost:8080/"
        },
        "id": "7XMXJIpg3ccM",
        "outputId": "997330ff-6fbd-4cbc-edd8-1a0859b64fcc"
      },
      "source": [
        "audioclip = AudioFileClip(\"hackathon_part_1.mp4\") #видеофайл 1.mp4\n",
        "audioclip.write_audiofile(\"out_audio.mp3\") #извлеченная аудиодорожка в файл out_audio.mp3"
      ],
      "execution_count": 9,
      "outputs": [
        {
          "output_type": "stream",
          "name": "stdout",
          "text": [
            "[MoviePy] Writing audio in out_audio.mp3\n"
          ]
        },
        {
          "output_type": "stream",
          "name": "stderr",
          "text": [
            "100%|██████████| 4387/4387 [00:05<00:00, 770.27it/s]"
          ]
        },
        {
          "output_type": "stream",
          "name": "stdout",
          "text": [
            "[MoviePy] Done.\n"
          ]
        },
        {
          "output_type": "stream",
          "name": "stderr",
          "text": [
            "\n"
          ]
        }
      ]
    },
    {
      "cell_type": "markdown",
      "metadata": {
        "id": "Ul0GnhNX66iJ"
      },
      "source": [
        "# Разделение аудиофайла на кусочки по n сек"
      ]
    },
    {
      "cell_type": "code",
      "metadata": {
        "id": "OKvStRka7nI8"
      },
      "source": [
        "AUDIO_FILE = \"out_audio.mp3\" # имя исходного файла\n",
        "SEGMENT_LEN = 10 * 1000 # длинна одного отрезка "
      ],
      "execution_count": 10,
      "outputs": []
    },
    {
      "cell_type": "code",
      "metadata": {
        "id": "xZ4iQMzt4EOL"
      },
      "source": [
        "from pydub import AudioSegment"
      ],
      "execution_count": 11,
      "outputs": []
    },
    {
      "cell_type": "code",
      "metadata": {
        "id": "cQsrWjJk5RD8"
      },
      "source": [
        "sound = AudioSegment.from_file(AUDIO_FILE) # подгружаем файл"
      ],
      "execution_count": 12,
      "outputs": []
    },
    {
      "cell_type": "code",
      "metadata": {
        "id": "jvq0Yk4Z5dTY"
      },
      "source": [
        "for milsec in range(0,len(sound),SEGMENT_LEN):\n",
        "  segment=sound[milsec:milsec+SEGMENT_LEN] # отделяем сегмент\n",
        "  segment.export(\"./splited_sound/s_\"+str(milsec)+\".wav\", format=\"wav\") # закидываем в файл"
      ],
      "execution_count": 13,
      "outputs": []
    },
    {
      "cell_type": "markdown",
      "metadata": {
        "id": "yQDUFE9i-9tG"
      },
      "source": [
        "# Распознование речи\n"
      ]
    },
    {
      "cell_type": "code",
      "metadata": {
        "id": "Fs8wWn0uTIq1"
      },
      "source": [
        ""
      ],
      "execution_count": 13,
      "outputs": []
    },
    {
      "cell_type": "code",
      "metadata": {
        "id": "D6GkqH0e8_g6"
      },
      "source": [
        "import speech_recognition as sr \n",
        "import IPython\n",
        "from os import listdir"
      ],
      "execution_count": 14,
      "outputs": []
    },
    {
      "cell_type": "code",
      "metadata": {
        "id": "b8XAKStjNdIl"
      },
      "source": [
        "lines=[]"
      ],
      "execution_count": 15,
      "outputs": []
    },
    {
      "cell_type": "code",
      "metadata": {
        "id": "K9qW_6lZOLws"
      },
      "source": [
        "r = sr.Recognizer()"
      ],
      "execution_count": 16,
      "outputs": []
    },
    {
      "cell_type": "code",
      "metadata": {
        "id": "M4UuNeGlZ_XP"
      },
      "source": [
        "FILE_NAMES=sorted(os.listdir(\"./splited_sound\"))"
      ],
      "execution_count": 17,
      "outputs": []
    },
    {
      "cell_type": "code",
      "metadata": {
        "id": "PuT2hYs8Cm-c"
      },
      "source": [
        "for name in FILE_NAMES:\n",
        "  with sr.AudioFile(\"./splited_sound/\"+name) as source:\n",
        "    audio = r.record(source)\n",
        "  lines += [r.recognize_google(audio,language=\"ru\")]"
      ],
      "execution_count": 18,
      "outputs": []
    },
    {
      "cell_type": "markdown",
      "metadata": {
        "id": "92VeA-l9T9Qh"
      },
      "source": [
        "# Поиск контрольных слов"
      ]
    },
    {
      "cell_type": "code",
      "metadata": {
        "id": "qU-qJwd7T9Gc"
      },
      "source": [
        "import pandas as pd\n",
        "control_names = [name.split(\"_\")[-1].lower() for name in list(pd.read_csv(\"vox1_meta.csv\",sep=\"\\t\")[\"VGGFace1 ID\"])]+[\"timberlake\"]"
      ],
      "execution_count": 19,
      "outputs": []
    },
    {
      "cell_type": "code",
      "metadata": {
        "id": "BrstoZGLWCwY"
      },
      "source": [
        "import Levenshtein\n",
        "# Функция, вычисляющая схожесть строк по Левенштейну\n",
        "def text_sim(s1, s2) -> float:\n",
        "    ratio = Levenshtein.distance(s1, s2)\n",
        "    return 1.0 - ratio / max(len(s1), len(s2))\n",
        "\n",
        "\n",
        "# Функция проверяющая, что слово схоже в заданной степени с хотя бы одним из слов\n",
        "def is_search_word(word, true_words, min_sim=0.6) -> bool:\n",
        "    word = word.lower()\n",
        "    is_true_word = False\n",
        "    for example_word in true_words:\n",
        "        is_true_word = is_true_word or (text_sim(word, example_word) > min_sim)\n",
        "    return is_true_word"
      ],
      "execution_count": 20,
      "outputs": []
    },
    {
      "cell_type": "code",
      "metadata": {
        "id": "KGJcGzmrZtEw"
      },
      "source": [
        "translit_lines = [0]*len(lines)"
      ],
      "execution_count": 21,
      "outputs": []
    },
    {
      "cell_type": "code",
      "metadata": {
        "id": "H4qorPfIX9hx"
      },
      "source": [
        "from transliterate import translit\n",
        "for i,line in enumerate(lines):\n",
        "  translit_lines[i] =  translit(line,  language_code='ru',reversed=True).lower().split()"
      ],
      "execution_count": 22,
      "outputs": []
    },
    {
      "cell_type": "code",
      "metadata": {
        "colab": {
          "base_uri": "https://localhost:8080/"
        },
        "id": "a0Tmr8lKkBWL",
        "outputId": "1d383282-3c53-4d30-90a3-1d45f524e4cd"
      },
      "source": [
        "text_sim(\"timberland\",\"timberlake\")"
      ],
      "execution_count": 23,
      "outputs": [
        {
          "output_type": "execute_result",
          "data": {
            "text/plain": [
              "0.8"
            ]
          },
          "metadata": {},
          "execution_count": 23
        }
      ]
    },
    {
      "cell_type": "code",
      "metadata": {
        "id": "ePELPFDYczFh"
      },
      "source": [
        "translit_lines"
      ],
      "execution_count": null,
      "outputs": []
    },
    {
      "cell_type": "code",
      "metadata": {
        "id": "0EH7grUQYAc_"
      },
      "source": [
        "files_dict = dict(zip(FILE_NAMES,translit_lines))"
      ],
      "execution_count": 25,
      "outputs": []
    },
    {
      "cell_type": "code",
      "metadata": {
        "colab": {
          "base_uri": "https://localhost:8080/"
        },
        "id": "WUO8Kb45j4ju",
        "outputId": "64feea9d-4e1c-41e4-a9cf-09ec6e70f28e"
      },
      "source": [
        "lines"
      ],
      "execution_count": 26,
      "outputs": [
        {
          "output_type": "execute_result",
          "data": {
            "text/plain": [
              "['Всем привет Меня зовут Серёжа Я работаю звуки на позиции Bacardi Да она собака идёт 12 человек и как и любой буканьеры когда работаю Я люблю слушать музыку',\n",
              " 'чаще всего это Dubstep или Future Garage люблю слушать Боря привет Я Дима я техлит в продуктовой команде которая занимается волнами в сверхзвуке',\n",
              " 'классно замечательная и контейнер там вообще отлично себя проявил Но больше всего мне нравится камера Александра пистолетова я',\n",
              " 'на мероприятии которое представляет себя проигрывание в симфоническом оркестре во всяких этих саундтреков из фильмов и',\n",
              " 'Вот как раз у триммера скучала композиции которая прикольно очень слушать в исполнении большого оркестра там с органом',\n",
              " 'живым звуком это очень круто звучит вообще уехал как-то в маршрутке слышал Этот трек сам не слушаю',\n",
              " 'музыку этого жанра нужно есть качественное делаю там mastering вот это всё вполне на уровне Поэтому вот блин Первый раз слышу',\n",
              " 'очень понравился добавился в коллекцию Сбер звуки в детстве короче слышал её по MTV прикинь',\n",
              " 'чем там говорят А как понял вообще дурной перевернулся вашим чувствую себя как будто бы я в клубе забором 10 лет назад мне лень что-то',\n",
              " 'я там выбираю какой-то напиток у мне время когда он был в топ чартах но сейчас ситуация кардинально изменилась Конкретно этот трек не я не зашёл что знаешь про',\n",
              " 'так он Timberland он Timbaland наверное нет ничего не знаю Timberland ботинок она или Фуртадо тоже молчи',\n",
              " 'отправить Timberlake знаю он в фильме снялся Тимберлейка в этом треке не играет а он в том который повыше Давай был',\n",
              " 'тоже люблю слушать музыку когда программируют чаще всего это отечественный synth-pop Моя любимая группа это электрофорез а трек русская принцесса собрались здесь',\n",
              " 'потому что мы хотим дать возможность нашим пользователям загружать видеоконтента нашей платформы при этом нужно изобрести какие-то инструменты для валидации',\n",
              " 'в принципе и фильтров а каких-то этого видео аудио контента и вот мы решили замутить котом чтобы вы показали Как создавать крутые игры',\n",
              " 'ваша задача определить на этом видео фото именно артист был бы совсем замечательно если бы смогли их вырезать или заблюрить короче Нам нужен крутой уже Фильтр Canon',\n",
              " 'организатор картона сделали плейлист сейчас мы с тобой послушаем и поймём насколько совпадают наши вкус Давай посмотрим Cherry Cherry Lady',\n",
              " 'помню купила как-то раз когда был маленький кассету вторую в своей жизни первая купила Это был лимбискит а второй был сборник Европы',\n",
              " 'Вот и вот в этом сборнике Европа Плюс была вот эта песня Я не настолько стар но типа почему-то он там был может сборник был',\n",
              " 'там что-то такое не кажется Modern Talking нестареющая классика слушаю до сих пор очень нравится прикольно замечательно блин обожаю пиратов']"
            ]
          },
          "metadata": {},
          "execution_count": 26
        }
      ]
    },
    {
      "cell_type": "code",
      "metadata": {
        "id": "wIcWpL8dmPWi"
      },
      "source": [
        "finded_names = set()\n",
        "true_segment_names=set() "
      ],
      "execution_count": 27,
      "outputs": []
    },
    {
      "cell_type": "code",
      "metadata": {
        "id": "eZX8uutEbAnU"
      },
      "source": [
        "for segment in files_dict.keys():\n",
        "  for word in files_dict[segment]:\n",
        "    if is_search_word(word,control_names,0.85):\n",
        "      finded_names.add(word)\n",
        "      true_segment_names.add(segment)"
      ],
      "execution_count": 28,
      "outputs": []
    },
    {
      "cell_type": "code",
      "metadata": {
        "colab": {
          "base_uri": "https://localhost:8080/"
        },
        "id": "E-8adenjpF8z",
        "outputId": "34c4599f-e8b7-4e24-8330-ce49047bc8ba"
      },
      "source": [
        "true_segment_names"
      ],
      "execution_count": 29,
      "outputs": [
        {
          "output_type": "execute_result",
          "data": {
            "text/plain": [
              "{'s_180000.wav', 's_190000.wav'}"
            ]
          },
          "metadata": {},
          "execution_count": 29
        }
      ]
    },
    {
      "cell_type": "code",
      "metadata": {
        "colab": {
          "base_uri": "https://localhost:8080/"
        },
        "id": "r5Zy26yYsKnG",
        "outputId": "52201604-8ab0-40cc-d5a3-c854e4767505"
      },
      "source": [
        "finded_names"
      ],
      "execution_count": 30,
      "outputs": [
        {
          "output_type": "execute_result",
          "data": {
            "text/plain": [
              "{'furtado', 'timberlake'}"
            ]
          },
          "metadata": {},
          "execution_count": 30
        }
      ]
    },
    {
      "cell_type": "code",
      "metadata": {
        "id": "fdQQj2xPngxG"
      },
      "source": [
        "from os import mkdir,chdir"
      ],
      "execution_count": 31,
      "outputs": []
    },
    {
      "cell_type": "code",
      "metadata": {
        "id": "wBp2NV7vvayY"
      },
      "source": [
        "lines=[]"
      ],
      "execution_count": 40,
      "outputs": []
    },
    {
      "cell_type": "code",
      "metadata": {
        "id": "MRXvjNx6cYJD"
      },
      "source": [
        "for segment_name in true_segment_names:\n",
        "  segment_name_clear=segment_name.split(\".\")[0]\n",
        "  try:\n",
        "    mkdir(segment_name_clear)\n",
        "  except: pass\n",
        "  sound = AudioSegment.from_file(\"./splited_sound/s_180000.wav\") # подгружаем файл\n",
        "  for milsec in range(0,len(sound),2000):\n",
        "    segment=sound[milsec:milsec+SEGMENT_LEN] # отделяем сегмент\n",
        "    segment.export(\"./\"+segment_name_clear+\"/\"+segment_name_clear+\"_\"+str(milsec)+\".wav\", format=\"wav\") # закидываем в файл\n",
        "  FILE_NAMES=sorted(os.listdir(\"./\"+segment_name_clear))\n",
        "  for name in FILE_NAMES:\n",
        "    with sr.AudioFile(\"./\"+segment_name_clear+\"/\"+segment_name_clear+\"_\"+str(milsec)+\".wav\") as source:\n",
        "      audio = r.record(source)\n",
        "    lines += [r.recognize_google(audio,language=\"ru\")]"
      ],
      "execution_count": 41,
      "outputs": []
    },
    {
      "cell_type": "code",
      "metadata": {
        "colab": {
          "base_uri": "https://localhost:8080/"
        },
        "id": "r0xd9-smnTwP",
        "outputId": "0ca574e2-fc21-458c-aa17-2ccffa6e221e"
      },
      "source": [
        "lines"
      ],
      "execution_count": 42,
      "outputs": [
        {
          "output_type": "execute_result",
          "data": {
            "text/plain": [
              "['тоже молчи',\n",
              " 'тоже молчи',\n",
              " 'тоже молчи',\n",
              " 'тоже молчи',\n",
              " 'тоже молчи',\n",
              " 'тоже молчи',\n",
              " 'тоже молчи',\n",
              " 'тоже молчи',\n",
              " 'тоже молчи',\n",
              " 'тоже молчи',\n",
              " 'тоже молчи',\n",
              " 'тоже молчи',\n",
              " 'тоже молчи',\n",
              " 'тоже молчи',\n",
              " 'тоже молчи',\n",
              " 'тоже молчи',\n",
              " 'тоже молчи',\n",
              " 'тоже молчи',\n",
              " 'тоже молчи',\n",
              " 'тоже молчи']"
            ]
          },
          "metadata": {},
          "execution_count": 42
        }
      ]
    },
    {
      "cell_type": "code",
      "metadata": {
        "id": "nyIw9PHcvRMB"
      },
      "source": [
        ""
      ],
      "execution_count": null,
      "outputs": []
    }
  ]
}