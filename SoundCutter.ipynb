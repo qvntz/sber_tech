{
  "nbformat": 4,
  "nbformat_minor": 0,
  "metadata": {
    "colab": {
      "name": "SoundCutter.ipynb",
      "provenance": []
    },
    "kernelspec": {
      "name": "python3",
      "display_name": "Python 3"
    },
    "language_info": {
      "name": "python"
    },
    "accelerator": "GPU"
  },
  "cells": [
    {
      "cell_type": "markdown",
      "metadata": {
        "id": "s7cGxagc3tkd"
      },
      "source": [
        "# Перенос файла с диска"
      ]
    },
    {
      "cell_type": "code",
      "metadata": {
        "id": "bba9-Hff1m3P"
      },
      "source": [
        "!cp \"/content/drive/MyDrive/GlebHac/hackathon_part_1.mp4\" ./"
      ],
      "execution_count": 1,
      "outputs": []
    },
    {
      "cell_type": "code",
      "metadata": {
        "id": "8VsEsL1HUtAZ"
      },
      "source": [
        "!cp \"/content/drive/MyDrive/GlebHac/vox1_meta.csv\" ./"
      ],
      "execution_count": 2,
      "outputs": []
    },
    {
      "cell_type": "code",
      "metadata": {
        "colab": {
          "base_uri": "https://localhost:8080/"
        },
        "id": "1akheGI4Ueyg",
        "outputId": "cf197253-a4bc-4798-b217-ddc4a3b43489"
      },
      "source": [
        "!mkdir splited_sound"
      ],
      "execution_count": 3,
      "outputs": [
        {
          "output_type": "stream",
          "name": "stdout",
          "text": [
            "mkdir: cannot create directory ‘splited_sound’: File exists\n"
          ]
        }
      ]
    },
    {
      "cell_type": "code",
      "metadata": {
        "colab": {
          "base_uri": "https://localhost:8080/"
        },
        "id": "Pn986d3BUgHJ",
        "outputId": "46d2ffba-8a63-4e37-a9ed-d5d5460fdb82"
      },
      "source": [
        "!pip install pydub"
      ],
      "execution_count": 4,
      "outputs": [
        {
          "output_type": "stream",
          "name": "stdout",
          "text": [
            "Requirement already satisfied: pydub in /usr/local/lib/python3.7/dist-packages (0.25.1)\n"
          ]
        }
      ]
    },
    {
      "cell_type": "code",
      "metadata": {
        "colab": {
          "base_uri": "https://localhost:8080/"
        },
        "id": "0NeO1T_hUjjo",
        "outputId": "df4a9179-962c-4e51-c170-6e878dfa8c33"
      },
      "source": [
        "!pip install SpeechRecognition"
      ],
      "execution_count": 5,
      "outputs": [
        {
          "output_type": "stream",
          "name": "stdout",
          "text": [
            "Requirement already satisfied: SpeechRecognition in /usr/local/lib/python3.7/dist-packages (3.8.1)\n"
          ]
        }
      ]
    },
    {
      "cell_type": "code",
      "metadata": {
        "colab": {
          "base_uri": "https://localhost:8080/"
        },
        "id": "XQ-fE7m6Xs1k",
        "outputId": "f2fcf476-e50b-4363-c3f9-b37fb7dda755"
      },
      "source": [
        "!pip install Levenshtein"
      ],
      "execution_count": 6,
      "outputs": [
        {
          "output_type": "stream",
          "name": "stdout",
          "text": [
            "Requirement already satisfied: Levenshtein in /usr/local/lib/python3.7/dist-packages (0.16.0)\n",
            "Requirement already satisfied: rapidfuzz<1.9,>=1.8.2 in /usr/local/lib/python3.7/dist-packages (from Levenshtein) (1.8.2)\n"
          ]
        }
      ]
    },
    {
      "cell_type": "code",
      "metadata": {
        "colab": {
          "base_uri": "https://localhost:8080/"
        },
        "id": "pc2D_r9xZOsM",
        "outputId": "164bd00a-d666-481c-f70f-4575127b87e0"
      },
      "source": [
        "!pip install transliterate"
      ],
      "execution_count": 7,
      "outputs": [
        {
          "output_type": "stream",
          "name": "stdout",
          "text": [
            "Requirement already satisfied: transliterate in /usr/local/lib/python3.7/dist-packages (1.10.2)\n",
            "Requirement already satisfied: six>=1.1.0 in /usr/local/lib/python3.7/dist-packages (from transliterate) (1.15.0)\n"
          ]
        }
      ]
    },
    {
      "cell_type": "markdown",
      "metadata": {
        "id": "3yqrw5ku6vXz"
      },
      "source": [
        "# Получение аудио из видео"
      ]
    },
    {
      "cell_type": "code",
      "metadata": {
        "id": "zw96Ntln3s_7"
      },
      "source": [
        "from moviepy.editor import * #подключаем пакет moviepy"
      ],
      "execution_count": 8,
      "outputs": []
    },
    {
      "cell_type": "code",
      "metadata": {
        "colab": {
          "base_uri": "https://localhost:8080/"
        },
        "id": "7XMXJIpg3ccM",
        "outputId": "905316b5-d69d-4b47-9225-34f1161239a8"
      },
      "source": [
        "audioclip = AudioFileClip(\"hackathon_part_1.mp4\") #видеофайл 1.mp4\n",
        "audioclip.write_audiofile(\"out_audio.mp3\") #извлеченная аудиодорожка в файл out_audio.mp3"
      ],
      "execution_count": 9,
      "outputs": [
        {
          "output_type": "stream",
          "name": "stdout",
          "text": [
            "[MoviePy] Writing audio in out_audio.mp3\n"
          ]
        },
        {
          "output_type": "stream",
          "name": "stderr",
          "text": [
            "100%|██████████| 4387/4387 [00:05<00:00, 784.80it/s]"
          ]
        },
        {
          "output_type": "stream",
          "name": "stdout",
          "text": [
            "[MoviePy] Done.\n"
          ]
        },
        {
          "output_type": "stream",
          "name": "stderr",
          "text": [
            "\n"
          ]
        }
      ]
    },
    {
      "cell_type": "markdown",
      "metadata": {
        "id": "Ul0GnhNX66iJ"
      },
      "source": [
        "# Разделение аудиофайла на кусочки по n сек"
      ]
    },
    {
      "cell_type": "code",
      "metadata": {
        "id": "OKvStRka7nI8"
      },
      "source": [
        "AUDIO_FILE = \"out_audio.mp3\" # имя исходного файла\n",
        "SEGMENT_LEN = 10 * 1000 # длинна одного отрезка "
      ],
      "execution_count": 10,
      "outputs": []
    },
    {
      "cell_type": "code",
      "metadata": {
        "id": "xZ4iQMzt4EOL"
      },
      "source": [
        "from pydub import AudioSegment"
      ],
      "execution_count": 11,
      "outputs": []
    },
    {
      "cell_type": "code",
      "metadata": {
        "id": "cQsrWjJk5RD8"
      },
      "source": [
        "sound = AudioSegment.from_file(AUDIO_FILE) # подгружаем файл"
      ],
      "execution_count": 12,
      "outputs": []
    },
    {
      "cell_type": "code",
      "metadata": {
        "id": "jvq0Yk4Z5dTY"
      },
      "source": [
        "for milsec in range(0,len(sound),SEGMENT_LEN):\n",
        "  segment=sound[milsec:milsec+SEGMENT_LEN] # отделяем сегмент\n",
        "  segment.export(\"./splited_sound/s_\"+str(milsec)+\".wav\", format=\"wav\") # закидываем в файл"
      ],
      "execution_count": 13,
      "outputs": []
    },
    {
      "cell_type": "markdown",
      "metadata": {
        "id": "yQDUFE9i-9tG"
      },
      "source": [
        "# Распознование речи\n"
      ]
    },
    {
      "cell_type": "code",
      "metadata": {
        "id": "Fs8wWn0uTIq1"
      },
      "source": [
        ""
      ],
      "execution_count": 13,
      "outputs": []
    },
    {
      "cell_type": "code",
      "metadata": {
        "id": "D6GkqH0e8_g6"
      },
      "source": [
        "import speech_recognition as sr \n",
        "import IPython\n",
        "from os import listdir"
      ],
      "execution_count": 14,
      "outputs": []
    },
    {
      "cell_type": "code",
      "metadata": {
        "id": "b8XAKStjNdIl"
      },
      "source": [
        "lines=[]"
      ],
      "execution_count": 15,
      "outputs": []
    },
    {
      "cell_type": "code",
      "metadata": {
        "id": "K9qW_6lZOLws"
      },
      "source": [
        "r = sr.Recognizer()"
      ],
      "execution_count": 16,
      "outputs": []
    },
    {
      "cell_type": "code",
      "metadata": {
        "id": "M4UuNeGlZ_XP"
      },
      "source": [
        "FILE_NAMES=sorted(os.listdir(\"./splited_sound\"))"
      ],
      "execution_count": 17,
      "outputs": []
    },
    {
      "cell_type": "code",
      "metadata": {
        "id": "PuT2hYs8Cm-c"
      },
      "source": [
        "for name in FILE_NAMES:\n",
        "  with sr.AudioFile(\"./splited_sound/\"+name) as source:\n",
        "    audio = r.record(source)\n",
        "  lines += [r.recognize_google(audio,language=\"ru\")]"
      ],
      "execution_count": 18,
      "outputs": []
    },
    {
      "cell_type": "markdown",
      "metadata": {
        "id": "92VeA-l9T9Qh"
      },
      "source": [
        "# Поиск контрольных слов"
      ]
    },
    {
      "cell_type": "code",
      "metadata": {
        "id": "qU-qJwd7T9Gc"
      },
      "source": [
        "import pandas as pd\n",
        "controls_names = [name.split(\"_\")[-1].lower() for name in list(pd.read_csv(\"vox1_meta.csv\",sep=\"\\t\")[\"VGGFace1 ID\"])]"
      ],
      "execution_count": 19,
      "outputs": []
    },
    {
      "cell_type": "code",
      "metadata": {
        "id": "BrstoZGLWCwY"
      },
      "source": [
        "import Levenshtein\n",
        "# Функция, вычисляющая схожесть строк по Левенштейну\n",
        "def text_sim(s1, s2) -> float:\n",
        "    ratio = Levenshtein.distance(s1, s2)\n",
        "    return 1.0 - ratio / max(len(s1), len(s2))\n",
        "\n",
        "\n",
        "# Функция проверяющая, что слово схоже в заданной степени с хотя бы одним из слов\n",
        "def is_search_word(word, true_words, min_sim=0.6) -> bool:\n",
        "    word = word.lower()\n",
        "    is_true_word = False\n",
        "    for example_word in true_words:\n",
        "        is_true_word = is_true_word or (text_sim(word, example_word) > min_sim)\n",
        "    return is_true_word"
      ],
      "execution_count": 20,
      "outputs": []
    },
    {
      "cell_type": "code",
      "metadata": {
        "id": "KGJcGzmrZtEw"
      },
      "source": [
        "translit_lines = [0]*len(lines)"
      ],
      "execution_count": 48,
      "outputs": []
    },
    {
      "cell_type": "code",
      "metadata": {
        "id": "H4qorPfIX9hx"
      },
      "source": [
        "from transliterate import translit\n",
        "for i,line in enumerate(lines):\n",
        "  translit_lines[i] =  translit(line,  language_code='ru',reversed=True).lower().split()"
      ],
      "execution_count": 58,
      "outputs": []
    },
    {
      "cell_type": "code",
      "metadata": {
        "colab": {
          "base_uri": "https://localhost:8080/"
        },
        "id": "ePELPFDYczFh",
        "outputId": "cbe7e581-3789-42d9-b39d-41b73bd3e048"
      },
      "source": [
        "translit_lines"
      ],
      "execution_count": 59,
      "outputs": [
        {
          "output_type": "execute_result",
          "data": {
            "text/plain": [
              "[['vsem',\n",
              "  'privet',\n",
              "  'menja',\n",
              "  'zovut',\n",
              "  'serezha',\n",
              "  'ja',\n",
              "  'rabotaju',\n",
              "  'zvuki',\n",
              "  'na',\n",
              "  'pozitsii',\n",
              "  'bacardi',\n",
              "  'da',\n",
              "  'ona',\n",
              "  'sobaka',\n",
              "  'idet',\n",
              "  '12',\n",
              "  'chelovek',\n",
              "  'i',\n",
              "  'kak',\n",
              "  'i',\n",
              "  'ljuboj',\n",
              "  \"bukan'ery\",\n",
              "  'kogda',\n",
              "  'rabotaju',\n",
              "  'ja',\n",
              "  'ljublju',\n",
              "  \"slushat'\",\n",
              "  'muzyku'],\n",
              " ['chasche',\n",
              "  'vsego',\n",
              "  'eto',\n",
              "  'dubstep',\n",
              "  'ili',\n",
              "  'future',\n",
              "  'garage',\n",
              "  'ljublju',\n",
              "  \"slushat'\",\n",
              "  'borja',\n",
              "  'privet',\n",
              "  'ja',\n",
              "  'dima',\n",
              "  'ja',\n",
              "  'tehlit',\n",
              "  'v',\n",
              "  'produktovoj',\n",
              "  'komande',\n",
              "  'kotoraja',\n",
              "  'zanimaetsja',\n",
              "  'volnami',\n",
              "  'v',\n",
              "  'sverhzvuke'],\n",
              " ['klassno',\n",
              "  \"zamechatel'naja\",\n",
              "  'i',\n",
              "  'kontejner',\n",
              "  'tam',\n",
              "  'voobsche',\n",
              "  'otlichno',\n",
              "  'sebja',\n",
              "  'projavil',\n",
              "  'no',\n",
              "  \"bol'she\",\n",
              "  'vsego',\n",
              "  'mne',\n",
              "  'nravitsja',\n",
              "  'kamera',\n",
              "  'aleksandra',\n",
              "  'pistoletova',\n",
              "  'ja'],\n",
              " ['na',\n",
              "  'meroprijatii',\n",
              "  'kotoroe',\n",
              "  'predstavljaet',\n",
              "  'sebja',\n",
              "  'proigryvanie',\n",
              "  'v',\n",
              "  'simfonicheskom',\n",
              "  'orkestre',\n",
              "  'vo',\n",
              "  'vsjakih',\n",
              "  'etih',\n",
              "  'saundtrekov',\n",
              "  'iz',\n",
              "  \"fil'mov\",\n",
              "  'i'],\n",
              " ['vot',\n",
              "  'kak',\n",
              "  'raz',\n",
              "  'u',\n",
              "  'trimmera',\n",
              "  'skuchala',\n",
              "  'kompozitsii',\n",
              "  'kotoraja',\n",
              "  \"prikol'no\",\n",
              "  \"ochen'\",\n",
              "  \"slushat'\",\n",
              "  'v',\n",
              "  'ispolnenii',\n",
              "  \"bol'shogo\",\n",
              "  'orkestra',\n",
              "  'tam',\n",
              "  's',\n",
              "  'organom'],\n",
              " ['zhivym',\n",
              "  'zvukom',\n",
              "  'eto',\n",
              "  \"ochen'\",\n",
              "  'kruto',\n",
              "  'zvuchit',\n",
              "  'voobsche',\n",
              "  'uehal',\n",
              "  'kak-to',\n",
              "  'v',\n",
              "  'marshrutke',\n",
              "  'slyshal',\n",
              "  'etot',\n",
              "  'trek',\n",
              "  'sam',\n",
              "  'ne',\n",
              "  'slushaju'],\n",
              " ['muzyku',\n",
              "  'etogo',\n",
              "  'zhanra',\n",
              "  'nuzhno',\n",
              "  \"est'\",\n",
              "  'kachestvennoe',\n",
              "  'delaju',\n",
              "  'tam',\n",
              "  'mastering',\n",
              "  'vot',\n",
              "  'eto',\n",
              "  'vse',\n",
              "  'vpolne',\n",
              "  'na',\n",
              "  'urovne',\n",
              "  'poetomu',\n",
              "  'vot',\n",
              "  'blin',\n",
              "  'pervyj',\n",
              "  'raz',\n",
              "  'slyshu'],\n",
              " [\"ochen'\",\n",
              "  'ponravilsja',\n",
              "  'dobavilsja',\n",
              "  'v',\n",
              "  'kollektsiju',\n",
              "  'sber',\n",
              "  'zvuki',\n",
              "  'v',\n",
              "  'detstve',\n",
              "  'koroche',\n",
              "  'slyshal',\n",
              "  'ee',\n",
              "  'po',\n",
              "  'mtv',\n",
              "  \"prikin'\"],\n",
              " ['chem',\n",
              "  'tam',\n",
              "  'govorjat',\n",
              "  'a',\n",
              "  'kak',\n",
              "  'ponjal',\n",
              "  'voobsche',\n",
              "  'durnoj',\n",
              "  'perevernulsja',\n",
              "  'vashim',\n",
              "  'chuvstvuju',\n",
              "  'sebja',\n",
              "  'kak',\n",
              "  'budto',\n",
              "  'by',\n",
              "  'ja',\n",
              "  'v',\n",
              "  'klube',\n",
              "  'zaborom',\n",
              "  '10',\n",
              "  'let',\n",
              "  'nazad',\n",
              "  'mne',\n",
              "  \"len'\",\n",
              "  'chto-to'],\n",
              " ['ja',\n",
              "  'tam',\n",
              "  'vybiraju',\n",
              "  'kakoj-to',\n",
              "  'napitok',\n",
              "  'u',\n",
              "  'mne',\n",
              "  'vremja',\n",
              "  'kogda',\n",
              "  'on',\n",
              "  'byl',\n",
              "  'v',\n",
              "  'top',\n",
              "  'chartah',\n",
              "  'no',\n",
              "  'sejchas',\n",
              "  'situatsija',\n",
              "  \"kardinal'no\",\n",
              "  \"izmenilas'\",\n",
              "  'konkretno',\n",
              "  'etot',\n",
              "  'trek',\n",
              "  'ne',\n",
              "  'ja',\n",
              "  'ne',\n",
              "  'zashel',\n",
              "  'chto',\n",
              "  \"znaesh'\",\n",
              "  'pro'],\n",
              " ['tak',\n",
              "  'on',\n",
              "  'timberland',\n",
              "  'on',\n",
              "  'timbaland',\n",
              "  'navernoe',\n",
              "  'net',\n",
              "  'nichego',\n",
              "  'ne',\n",
              "  'znaju',\n",
              "  'timberland',\n",
              "  'botinok',\n",
              "  'ona',\n",
              "  'ili',\n",
              "  'furtado',\n",
              "  'tozhe',\n",
              "  'molchi'],\n",
              " [\"otpravit'\",\n",
              "  'timberlake',\n",
              "  'znaju',\n",
              "  'on',\n",
              "  'v',\n",
              "  \"fil'me\",\n",
              "  'snjalsja',\n",
              "  'timberlejka',\n",
              "  'v',\n",
              "  'etom',\n",
              "  'treke',\n",
              "  'ne',\n",
              "  'igraet',\n",
              "  'a',\n",
              "  'on',\n",
              "  'v',\n",
              "  'tom',\n",
              "  'kotoryj',\n",
              "  'povyshe',\n",
              "  'davaj',\n",
              "  'byl'],\n",
              " ['tozhe',\n",
              "  'ljublju',\n",
              "  \"slushat'\",\n",
              "  'muzyku',\n",
              "  'kogda',\n",
              "  'programmirujut',\n",
              "  'chasche',\n",
              "  'vsego',\n",
              "  'eto',\n",
              "  'otechestvennyj',\n",
              "  'synth-pop',\n",
              "  'moja',\n",
              "  'ljubimaja',\n",
              "  'gruppa',\n",
              "  'eto',\n",
              "  'elektroforez',\n",
              "  'a',\n",
              "  'trek',\n",
              "  'russkaja',\n",
              "  'printsessa',\n",
              "  \"sobralis'\",\n",
              "  \"zdes'\"],\n",
              " ['potomu',\n",
              "  'chto',\n",
              "  'my',\n",
              "  'hotim',\n",
              "  \"dat'\",\n",
              "  \"vozmozhnost'\",\n",
              "  'nashim',\n",
              "  \"pol'zovateljam\",\n",
              "  \"zagruzhat'\",\n",
              "  'videokontenta',\n",
              "  'nashej',\n",
              "  'platformy',\n",
              "  'pri',\n",
              "  'etom',\n",
              "  'nuzhno',\n",
              "  'izobresti',\n",
              "  'kakie-to',\n",
              "  'instrumenty',\n",
              "  'dlja',\n",
              "  'validatsii'],\n",
              " ['v',\n",
              "  'printsipe',\n",
              "  'i',\n",
              "  \"fil'trov\",\n",
              "  'a',\n",
              "  'kakih-to',\n",
              "  'etogo',\n",
              "  'video',\n",
              "  'audio',\n",
              "  'kontenta',\n",
              "  'i',\n",
              "  'vot',\n",
              "  'my',\n",
              "  'reshili',\n",
              "  \"zamutit'\",\n",
              "  'kotom',\n",
              "  'chtoby',\n",
              "  'vy',\n",
              "  'pokazali',\n",
              "  'kak',\n",
              "  \"sozdavat'\",\n",
              "  'krutye',\n",
              "  'igry'],\n",
              " ['vasha',\n",
              "  'zadacha',\n",
              "  \"opredelit'\",\n",
              "  'na',\n",
              "  'etom',\n",
              "  'video',\n",
              "  'foto',\n",
              "  'imenno',\n",
              "  'artist',\n",
              "  'byl',\n",
              "  'by',\n",
              "  'sovsem',\n",
              "  \"zamechatel'no\",\n",
              "  'esli',\n",
              "  'by',\n",
              "  'smogli',\n",
              "  'ih',\n",
              "  \"vyrezat'\",\n",
              "  'ili',\n",
              "  \"zabljurit'\",\n",
              "  'koroche',\n",
              "  'nam',\n",
              "  'nuzhen',\n",
              "  'krutoj',\n",
              "  'uzhe',\n",
              "  \"fil'tr\",\n",
              "  'canon'],\n",
              " ['organizator',\n",
              "  'kartona',\n",
              "  'sdelali',\n",
              "  'plejlist',\n",
              "  'sejchas',\n",
              "  'my',\n",
              "  's',\n",
              "  'toboj',\n",
              "  'poslushaem',\n",
              "  'i',\n",
              "  'pojmem',\n",
              "  \"naskol'ko\",\n",
              "  'sovpadajut',\n",
              "  'nashi',\n",
              "  'vkus',\n",
              "  'davaj',\n",
              "  'posmotrim',\n",
              "  'cherry',\n",
              "  'cherry',\n",
              "  'lady'],\n",
              " ['pomnju',\n",
              "  'kupila',\n",
              "  'kak-to',\n",
              "  'raz',\n",
              "  'kogda',\n",
              "  'byl',\n",
              "  \"malen'kij\",\n",
              "  'kassetu',\n",
              "  'vtoruju',\n",
              "  'v',\n",
              "  'svoej',\n",
              "  'zhizni',\n",
              "  'pervaja',\n",
              "  'kupila',\n",
              "  'eto',\n",
              "  'byl',\n",
              "  'limbiskit',\n",
              "  'a',\n",
              "  'vtoroj',\n",
              "  'byl',\n",
              "  'sbornik',\n",
              "  'evropy'],\n",
              " ['vot',\n",
              "  'i',\n",
              "  'vot',\n",
              "  'v',\n",
              "  'etom',\n",
              "  'sbornike',\n",
              "  'evropa',\n",
              "  'pljus',\n",
              "  'byla',\n",
              "  'vot',\n",
              "  'eta',\n",
              "  'pesnja',\n",
              "  'ja',\n",
              "  'ne',\n",
              "  \"nastol'ko\",\n",
              "  'star',\n",
              "  'no',\n",
              "  'tipa',\n",
              "  'pochemu-to',\n",
              "  'on',\n",
              "  'tam',\n",
              "  'byl',\n",
              "  'mozhet',\n",
              "  'sbornik',\n",
              "  'byl'],\n",
              " ['tam',\n",
              "  'chto-to',\n",
              "  'takoe',\n",
              "  'ne',\n",
              "  'kazhetsja',\n",
              "  'modern',\n",
              "  'talking',\n",
              "  'nestarejuschaja',\n",
              "  'klassika',\n",
              "  'slushaju',\n",
              "  'do',\n",
              "  'sih',\n",
              "  'por',\n",
              "  \"ochen'\",\n",
              "  'nravitsja',\n",
              "  \"prikol'no\",\n",
              "  \"zamechatel'no\",\n",
              "  'blin',\n",
              "  'obozhaju',\n",
              "  'piratov']]"
            ]
          },
          "metadata": {},
          "execution_count": 59
        }
      ]
    },
    {
      "cell_type": "code",
      "metadata": {
        "colab": {
          "base_uri": "https://localhost:8080/"
        },
        "id": "0EH7grUQYAc_",
        "outputId": "ad0199d9-047b-4f35-d989-a25b42e9931a"
      },
      "source": [
        "dict(zip(FILE_NAMES,translit_lines))"
      ],
      "execution_count": 60,
      "outputs": [
        {
          "output_type": "execute_result",
          "data": {
            "text/plain": [
              "{'s_0.wav': ['vsem',\n",
              "  'privet',\n",
              "  'menja',\n",
              "  'zovut',\n",
              "  'serezha',\n",
              "  'ja',\n",
              "  'rabotaju',\n",
              "  'zvuki',\n",
              "  'na',\n",
              "  'pozitsii',\n",
              "  'bacardi',\n",
              "  'da',\n",
              "  'ona',\n",
              "  'sobaka',\n",
              "  'idet',\n",
              "  '12',\n",
              "  'chelovek',\n",
              "  'i',\n",
              "  'kak',\n",
              "  'i',\n",
              "  'ljuboj',\n",
              "  \"bukan'ery\",\n",
              "  'kogda',\n",
              "  'rabotaju',\n",
              "  'ja',\n",
              "  'ljublju',\n",
              "  \"slushat'\",\n",
              "  'muzyku'],\n",
              " 's_10000.wav': ['chasche',\n",
              "  'vsego',\n",
              "  'eto',\n",
              "  'dubstep',\n",
              "  'ili',\n",
              "  'future',\n",
              "  'garage',\n",
              "  'ljublju',\n",
              "  \"slushat'\",\n",
              "  'borja',\n",
              "  'privet',\n",
              "  'ja',\n",
              "  'dima',\n",
              "  'ja',\n",
              "  'tehlit',\n",
              "  'v',\n",
              "  'produktovoj',\n",
              "  'komande',\n",
              "  'kotoraja',\n",
              "  'zanimaetsja',\n",
              "  'volnami',\n",
              "  'v',\n",
              "  'sverhzvuke'],\n",
              " 's_100000.wav': ['klassno',\n",
              "  \"zamechatel'naja\",\n",
              "  'i',\n",
              "  'kontejner',\n",
              "  'tam',\n",
              "  'voobsche',\n",
              "  'otlichno',\n",
              "  'sebja',\n",
              "  'projavil',\n",
              "  'no',\n",
              "  \"bol'she\",\n",
              "  'vsego',\n",
              "  'mne',\n",
              "  'nravitsja',\n",
              "  'kamera',\n",
              "  'aleksandra',\n",
              "  'pistoletova',\n",
              "  'ja'],\n",
              " 's_110000.wav': ['na',\n",
              "  'meroprijatii',\n",
              "  'kotoroe',\n",
              "  'predstavljaet',\n",
              "  'sebja',\n",
              "  'proigryvanie',\n",
              "  'v',\n",
              "  'simfonicheskom',\n",
              "  'orkestre',\n",
              "  'vo',\n",
              "  'vsjakih',\n",
              "  'etih',\n",
              "  'saundtrekov',\n",
              "  'iz',\n",
              "  \"fil'mov\",\n",
              "  'i'],\n",
              " 's_120000.wav': ['vot',\n",
              "  'kak',\n",
              "  'raz',\n",
              "  'u',\n",
              "  'trimmera',\n",
              "  'skuchala',\n",
              "  'kompozitsii',\n",
              "  'kotoraja',\n",
              "  \"prikol'no\",\n",
              "  \"ochen'\",\n",
              "  \"slushat'\",\n",
              "  'v',\n",
              "  'ispolnenii',\n",
              "  \"bol'shogo\",\n",
              "  'orkestra',\n",
              "  'tam',\n",
              "  's',\n",
              "  'organom'],\n",
              " 's_130000.wav': ['zhivym',\n",
              "  'zvukom',\n",
              "  'eto',\n",
              "  \"ochen'\",\n",
              "  'kruto',\n",
              "  'zvuchit',\n",
              "  'voobsche',\n",
              "  'uehal',\n",
              "  'kak-to',\n",
              "  'v',\n",
              "  'marshrutke',\n",
              "  'slyshal',\n",
              "  'etot',\n",
              "  'trek',\n",
              "  'sam',\n",
              "  'ne',\n",
              "  'slushaju'],\n",
              " 's_140000.wav': ['muzyku',\n",
              "  'etogo',\n",
              "  'zhanra',\n",
              "  'nuzhno',\n",
              "  \"est'\",\n",
              "  'kachestvennoe',\n",
              "  'delaju',\n",
              "  'tam',\n",
              "  'mastering',\n",
              "  'vot',\n",
              "  'eto',\n",
              "  'vse',\n",
              "  'vpolne',\n",
              "  'na',\n",
              "  'urovne',\n",
              "  'poetomu',\n",
              "  'vot',\n",
              "  'blin',\n",
              "  'pervyj',\n",
              "  'raz',\n",
              "  'slyshu'],\n",
              " 's_150000.wav': [\"ochen'\",\n",
              "  'ponravilsja',\n",
              "  'dobavilsja',\n",
              "  'v',\n",
              "  'kollektsiju',\n",
              "  'sber',\n",
              "  'zvuki',\n",
              "  'v',\n",
              "  'detstve',\n",
              "  'koroche',\n",
              "  'slyshal',\n",
              "  'ee',\n",
              "  'po',\n",
              "  'mtv',\n",
              "  \"prikin'\"],\n",
              " 's_160000.wav': ['chem',\n",
              "  'tam',\n",
              "  'govorjat',\n",
              "  'a',\n",
              "  'kak',\n",
              "  'ponjal',\n",
              "  'voobsche',\n",
              "  'durnoj',\n",
              "  'perevernulsja',\n",
              "  'vashim',\n",
              "  'chuvstvuju',\n",
              "  'sebja',\n",
              "  'kak',\n",
              "  'budto',\n",
              "  'by',\n",
              "  'ja',\n",
              "  'v',\n",
              "  'klube',\n",
              "  'zaborom',\n",
              "  '10',\n",
              "  'let',\n",
              "  'nazad',\n",
              "  'mne',\n",
              "  \"len'\",\n",
              "  'chto-to'],\n",
              " 's_170000.wav': ['ja',\n",
              "  'tam',\n",
              "  'vybiraju',\n",
              "  'kakoj-to',\n",
              "  'napitok',\n",
              "  'u',\n",
              "  'mne',\n",
              "  'vremja',\n",
              "  'kogda',\n",
              "  'on',\n",
              "  'byl',\n",
              "  'v',\n",
              "  'top',\n",
              "  'chartah',\n",
              "  'no',\n",
              "  'sejchas',\n",
              "  'situatsija',\n",
              "  \"kardinal'no\",\n",
              "  \"izmenilas'\",\n",
              "  'konkretno',\n",
              "  'etot',\n",
              "  'trek',\n",
              "  'ne',\n",
              "  'ja',\n",
              "  'ne',\n",
              "  'zashel',\n",
              "  'chto',\n",
              "  \"znaesh'\",\n",
              "  'pro'],\n",
              " 's_180000.wav': ['tak',\n",
              "  'on',\n",
              "  'timberland',\n",
              "  'on',\n",
              "  'timbaland',\n",
              "  'navernoe',\n",
              "  'net',\n",
              "  'nichego',\n",
              "  'ne',\n",
              "  'znaju',\n",
              "  'timberland',\n",
              "  'botinok',\n",
              "  'ona',\n",
              "  'ili',\n",
              "  'furtado',\n",
              "  'tozhe',\n",
              "  'molchi'],\n",
              " 's_190000.wav': [\"otpravit'\",\n",
              "  'timberlake',\n",
              "  'znaju',\n",
              "  'on',\n",
              "  'v',\n",
              "  \"fil'me\",\n",
              "  'snjalsja',\n",
              "  'timberlejka',\n",
              "  'v',\n",
              "  'etom',\n",
              "  'treke',\n",
              "  'ne',\n",
              "  'igraet',\n",
              "  'a',\n",
              "  'on',\n",
              "  'v',\n",
              "  'tom',\n",
              "  'kotoryj',\n",
              "  'povyshe',\n",
              "  'davaj',\n",
              "  'byl'],\n",
              " 's_20000.wav': ['tozhe',\n",
              "  'ljublju',\n",
              "  \"slushat'\",\n",
              "  'muzyku',\n",
              "  'kogda',\n",
              "  'programmirujut',\n",
              "  'chasche',\n",
              "  'vsego',\n",
              "  'eto',\n",
              "  'otechestvennyj',\n",
              "  'synth-pop',\n",
              "  'moja',\n",
              "  'ljubimaja',\n",
              "  'gruppa',\n",
              "  'eto',\n",
              "  'elektroforez',\n",
              "  'a',\n",
              "  'trek',\n",
              "  'russkaja',\n",
              "  'printsessa',\n",
              "  \"sobralis'\",\n",
              "  \"zdes'\"],\n",
              " 's_30000.wav': ['potomu',\n",
              "  'chto',\n",
              "  'my',\n",
              "  'hotim',\n",
              "  \"dat'\",\n",
              "  \"vozmozhnost'\",\n",
              "  'nashim',\n",
              "  \"pol'zovateljam\",\n",
              "  \"zagruzhat'\",\n",
              "  'videokontenta',\n",
              "  'nashej',\n",
              "  'platformy',\n",
              "  'pri',\n",
              "  'etom',\n",
              "  'nuzhno',\n",
              "  'izobresti',\n",
              "  'kakie-to',\n",
              "  'instrumenty',\n",
              "  'dlja',\n",
              "  'validatsii'],\n",
              " 's_40000.wav': ['v',\n",
              "  'printsipe',\n",
              "  'i',\n",
              "  \"fil'trov\",\n",
              "  'a',\n",
              "  'kakih-to',\n",
              "  'etogo',\n",
              "  'video',\n",
              "  'audio',\n",
              "  'kontenta',\n",
              "  'i',\n",
              "  'vot',\n",
              "  'my',\n",
              "  'reshili',\n",
              "  \"zamutit'\",\n",
              "  'kotom',\n",
              "  'chtoby',\n",
              "  'vy',\n",
              "  'pokazali',\n",
              "  'kak',\n",
              "  \"sozdavat'\",\n",
              "  'krutye',\n",
              "  'igry'],\n",
              " 's_50000.wav': ['vasha',\n",
              "  'zadacha',\n",
              "  \"opredelit'\",\n",
              "  'na',\n",
              "  'etom',\n",
              "  'video',\n",
              "  'foto',\n",
              "  'imenno',\n",
              "  'artist',\n",
              "  'byl',\n",
              "  'by',\n",
              "  'sovsem',\n",
              "  \"zamechatel'no\",\n",
              "  'esli',\n",
              "  'by',\n",
              "  'smogli',\n",
              "  'ih',\n",
              "  \"vyrezat'\",\n",
              "  'ili',\n",
              "  \"zabljurit'\",\n",
              "  'koroche',\n",
              "  'nam',\n",
              "  'nuzhen',\n",
              "  'krutoj',\n",
              "  'uzhe',\n",
              "  \"fil'tr\",\n",
              "  'canon'],\n",
              " 's_60000.wav': ['organizator',\n",
              "  'kartona',\n",
              "  'sdelali',\n",
              "  'plejlist',\n",
              "  'sejchas',\n",
              "  'my',\n",
              "  's',\n",
              "  'toboj',\n",
              "  'poslushaem',\n",
              "  'i',\n",
              "  'pojmem',\n",
              "  \"naskol'ko\",\n",
              "  'sovpadajut',\n",
              "  'nashi',\n",
              "  'vkus',\n",
              "  'davaj',\n",
              "  'posmotrim',\n",
              "  'cherry',\n",
              "  'cherry',\n",
              "  'lady'],\n",
              " 's_70000.wav': ['pomnju',\n",
              "  'kupila',\n",
              "  'kak-to',\n",
              "  'raz',\n",
              "  'kogda',\n",
              "  'byl',\n",
              "  \"malen'kij\",\n",
              "  'kassetu',\n",
              "  'vtoruju',\n",
              "  'v',\n",
              "  'svoej',\n",
              "  'zhizni',\n",
              "  'pervaja',\n",
              "  'kupila',\n",
              "  'eto',\n",
              "  'byl',\n",
              "  'limbiskit',\n",
              "  'a',\n",
              "  'vtoroj',\n",
              "  'byl',\n",
              "  'sbornik',\n",
              "  'evropy'],\n",
              " 's_80000.wav': ['vot',\n",
              "  'i',\n",
              "  'vot',\n",
              "  'v',\n",
              "  'etom',\n",
              "  'sbornike',\n",
              "  'evropa',\n",
              "  'pljus',\n",
              "  'byla',\n",
              "  'vot',\n",
              "  'eta',\n",
              "  'pesnja',\n",
              "  'ja',\n",
              "  'ne',\n",
              "  \"nastol'ko\",\n",
              "  'star',\n",
              "  'no',\n",
              "  'tipa',\n",
              "  'pochemu-to',\n",
              "  'on',\n",
              "  'tam',\n",
              "  'byl',\n",
              "  'mozhet',\n",
              "  'sbornik',\n",
              "  'byl'],\n",
              " 's_90000.wav': ['tam',\n",
              "  'chto-to',\n",
              "  'takoe',\n",
              "  'ne',\n",
              "  'kazhetsja',\n",
              "  'modern',\n",
              "  'talking',\n",
              "  'nestarejuschaja',\n",
              "  'klassika',\n",
              "  'slushaju',\n",
              "  'do',\n",
              "  'sih',\n",
              "  'por',\n",
              "  \"ochen'\",\n",
              "  'nravitsja',\n",
              "  \"prikol'no\",\n",
              "  \"zamechatel'no\",\n",
              "  'blin',\n",
              "  'obozhaju',\n",
              "  'piratov']}"
            ]
          },
          "metadata": {},
          "execution_count": 60
        }
      ]
    },
    {
      "cell_type": "code",
      "metadata": {
        "colab": {
          "base_uri": "https://localhost:8080/"
        },
        "id": "eZX8uutEbAnU",
        "outputId": "498b967d-9224-433a-c467-614075bdc025"
      },
      "source": [
        "text_sim(\"Timberland\",\"Timberlake\")"
      ],
      "execution_count": 52,
      "outputs": [
        {
          "output_type": "execute_result",
          "data": {
            "text/plain": [
              "0.8"
            ]
          },
          "metadata": {},
          "execution_count": 52
        }
      ]
    },
    {
      "cell_type": "code",
      "metadata": {
        "id": "MRXvjNx6cYJD"
      },
      "source": [
        ""
      ],
      "execution_count": null,
      "outputs": []
    }
  ]
}